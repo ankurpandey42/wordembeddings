{
 "cells": [
  {
   "cell_type": "code",
   "execution_count": 1,
   "metadata": {
    "collapsed": true
   },
   "outputs": [],
   "source": [
    "%matplotlib inline\n",
    "\n",
    "import numpy as np\n",
    "import matplotlib.pyplot as plt\n",
    "import pandas as pd"
   ]
  },
  {
   "cell_type": "markdown",
   "metadata": {},
   "source": [
    "# Sentence embeddings and textual similarity"
   ]
  },
  {
   "cell_type": "markdown",
   "metadata": {},
   "source": [
    "In this notebook we try to replicate the experimental results on textual similarity tasks from **A Simple but Tough-to-Beat Baseline for Sentence Embeddings** (Arora *et al*. 2017, https://openreview.net/pdf?id=SyK00v5xx)"
   ]
  },
  {
   "cell_type": "markdown",
   "metadata": {},
   "source": [
    "## Semantic Textual Similarity (STS) data"
   ]
  },
  {
   "cell_type": "markdown",
   "metadata": {},
   "source": [
    "The [SemEval](http://alt.qcri.org/semeval2016/) data are obtained from the `datasets-sts` repo: https://github.com/brmson/dataset-sts\n",
    "\n",
    "`pysts` (included in this repo) can be used to load STS tasks data."
   ]
  },
  {
   "cell_type": "code",
   "execution_count": 3,
   "metadata": {
    "collapsed": true
   },
   "outputs": [],
   "source": [
    "import sys\n",
    "sys.path.append('./dataset-sts/')"
   ]
  },
  {
   "cell_type": "code",
   "execution_count": 4,
   "metadata": {
    "collapsed": true
   },
   "outputs": [],
   "source": [
    "import pysts\n",
    "from pysts.loader import load_sts"
   ]
  },
  {
   "cell_type": "markdown",
   "metadata": {},
   "source": [
    "For example, the headlines dataset of SemEval 2015:"
   ]
  },
  {
   "cell_type": "code",
   "execution_count": 5,
   "metadata": {
    "collapsed": true
   },
   "outputs": [],
   "source": [
    "s0, s1, labels = load_sts(\"dataset-sts/data/sts/semeval-sts/2015/headlines.test.tsv\")"
   ]
  },
  {
   "cell_type": "markdown",
   "metadata": {},
   "source": [
    "This gives two lists of lists of the sentences (`s0` and `s1`), and the corresponding labels:"
   ]
  },
  {
   "cell_type": "code",
   "execution_count": 6,
   "metadata": {},
   "outputs": [
    {
     "data": {
      "text/plain": [
       "['The',\n",
       " 'foundations',\n",
       " 'of',\n",
       " 'South',\n",
       " 'Africa',\n",
       " 'are',\n",
       " 'built',\n",
       " 'on',\n",
       " 'Nelson',\n",
       " 'Mandela',\n",
       " \"'s\",\n",
       " 'memory']"
      ]
     },
     "execution_count": 6,
     "metadata": {},
     "output_type": "execute_result"
    }
   ],
   "source": [
    "s0[0]"
   ]
  },
  {
   "cell_type": "code",
   "execution_count": 7,
   "metadata": {},
   "outputs": [
    {
     "data": {
      "text/plain": [
       "['Australian',\n",
       " 'politicians',\n",
       " 'lament',\n",
       " 'over',\n",
       " 'Nelson',\n",
       " 'Mandela',\n",
       " \"'s\",\n",
       " 'death']"
      ]
     },
     "execution_count": 7,
     "metadata": {},
     "output_type": "execute_result"
    }
   ],
   "source": [
    "s1[0]"
   ]
  },
  {
   "cell_type": "code",
   "execution_count": 8,
   "metadata": {},
   "outputs": [
    {
     "data": {
      "text/plain": [
       "1.3"
      ]
     },
     "execution_count": 8,
     "metadata": {},
     "output_type": "execute_result"
    }
   ],
   "source": [
    "labels[0]"
   ]
  },
  {
   "cell_type": "markdown",
   "metadata": {},
   "source": [
    "By default, it excluded those pair of sentences that had not a label (can also use `skip_unlabeled=False`):"
   ]
  },
  {
   "cell_type": "code",
   "execution_count": 9,
   "metadata": {},
   "outputs": [
    {
     "data": {
      "text/plain": [
       "750"
      ]
     },
     "execution_count": 9,
     "metadata": {},
     "output_type": "execute_result"
    }
   ],
   "source": [
    "len(labels)"
   ]
  },
  {
   "cell_type": "code",
   "execution_count": 10,
   "metadata": {
    "collapsed": true
   },
   "outputs": [],
   "source": [
    "s0, s1, labels = load_sts(\"dataset-sts/data/sts/semeval-sts/2015/headlines.test.tsv\", skip_unlabeled=False)"
   ]
  },
  {
   "cell_type": "code",
   "execution_count": 11,
   "metadata": {},
   "outputs": [
    {
     "data": {
      "text/plain": [
       "1500"
      ]
     },
     "execution_count": 11,
     "metadata": {},
     "output_type": "execute_result"
    }
   ],
   "source": [
    "len(labels)"
   ]
  },
  {
   "cell_type": "code",
   "execution_count": 12,
   "metadata": {
    "collapsed": true
   },
   "outputs": [],
   "source": [
    "s0, s1, labels = load_sts(\"dataset-sts/data/sts/semeval-sts/2015/headlines.test.tsv\", skip_unlabeled=True)"
   ]
  },
  {
   "cell_type": "markdown",
   "metadata": {},
   "source": [
    "## GloVe pre-trained word vectors "
   ]
  },
  {
   "cell_type": "markdown",
   "metadata": {},
   "source": [
    "GloVe - Global Vectors for Word Representation (https://nlp.stanford.edu/projects/glove/). Pre-trained word vectors have been downloaded (we use the 300-dimensional vectors trained on the 840 billion token Common Crawl corpus: http://nlp.stanford.edu/data/glove.840B.300d.zip), and converted to a dictionary for further usage:\n",
    "    \n",
    "    import pandas as pd\n",
    "    import zipfile\n",
    "    \n",
    "    z = zipfile.ZipFile(\"./glove.840B.300d.zip\")\n",
    "    glove = pd.read_csv(z.open('glove.840B.300d.txt'), sep=\" \", quoting=3, header=None, index_col=0)\n",
    "    glove2 = {key: val.values for key, val in glove.T.items()}\n",
    "    \n",
    "    import pickle\n",
    "    with open('glove.840B.300d.pkl', 'wb') as output:\n",
    "        pickle.dump(glove2, output)"
   ]
  },
  {
   "cell_type": "code",
   "execution_count": 13,
   "metadata": {
    "collapsed": true
   },
   "outputs": [],
   "source": [
    "import pickle"
   ]
  },
  {
   "cell_type": "code",
   "execution_count": 14,
   "metadata": {
    "collapsed": true
   },
   "outputs": [],
   "source": [
    "with open('glove.840B.300d.pkl', 'rb') as pkl:\n",
    "    glove = pickle.load(pkl)"
   ]
  },
  {
   "cell_type": "markdown",
   "metadata": {},
   "source": [
    "For example, the 300 D array for 'python':"
   ]
  },
  {
   "cell_type": "code",
   "execution_count": 15,
   "metadata": {
    "scrolled": true
   },
   "outputs": [
    {
     "data": {
      "text/plain": [
       "array([  3.54140000e-02,  -4.57300000e-01,   4.26170000e-01,\n",
       "         2.34480000e-01,   1.84460000e-01,   7.86760000e-01,\n",
       "         1.55130000e-01,  -4.17010000e-01,   3.69960000e-01,\n",
       "        -2.50150000e-01,  -5.07050000e-01,  -6.14740000e-01,\n",
       "         3.06840000e-01,   2.85050000e-02,  -7.52220000e-01,\n",
       "         5.97250000e-02,  -4.04680000e-01,   9.49240000e-01,\n",
       "         2.31870000e-01,  -5.89560000e-01,  -5.56220000e-01,\n",
       "         3.84040000e-01,  -4.86240000e-01,   1.11380000e-01,\n",
       "        -4.85440000e-01,   2.49060000e-01,   9.60680000e-02,\n",
       "         2.03090000e-01,   5.13880000e-01,  -3.84310000e-01,\n",
       "         5.33230000e-02,  -8.35660000e-01,   1.87020000e-01,\n",
       "        -2.63540000e-01,  -3.69070000e-01,  -7.20300000e-02,\n",
       "         3.95150000e-01,  -2.90800000e-01,  -5.81550000e-01,\n",
       "        -2.31310000e-01,   8.52490000e-01,  -2.33080000e-01,\n",
       "        -1.67290000e-01,   7.08240000e-02,  -2.28030000e-02,\n",
       "         2.12520000e-01,  -1.99560000e-01,   1.65670000e-01,\n",
       "         7.25320000e-02,  -2.26180000e-01,  -5.09860000e-01,\n",
       "        -2.66940000e-01,  -4.70070000e-02,  -7.98270000e-01,\n",
       "         7.19630000e-04,   5.19410000e-02,   8.15000000e-02,\n",
       "        -6.03290000e-01,  -2.46510000e-01,   5.84430000e-02,\n",
       "        -6.32830000e-01,   1.56710000e-01,  -2.26270000e-01,\n",
       "        -5.49550000e-01,   2.20710000e-01,  -5.14010000e-02,\n",
       "         6.31330000e-01,   2.24190000e-01,   6.01040000e-01,\n",
       "         3.43660000e-02,   2.82460000e-01,  -5.73980000e-01,\n",
       "        -1.17910000e-01,  -1.75690000e-01,   1.36770000e-01,\n",
       "        -2.43420000e-01,  -7.62990000e-02,   1.49820000e-01,\n",
       "        -1.76100000e-01,  -4.87210000e-01,  -7.44400000e-01,\n",
       "         4.83210000e-01,   1.86390000e-01,   5.78980000e-02,\n",
       "        -2.94140000e-01,   5.20180000e-01,   1.03800000e+00,\n",
       "         1.33680000e-01,   3.47300000e-01,   3.54340000e-03,\n",
       "        -2.61030000e-01,   2.59690000e-01,  -4.93500000e-01,\n",
       "        -4.72800000e-01,   5.11990000e-01,   2.87270000e-01,\n",
       "        -4.01510000e-01,   4.21020000e-02,   3.81330000e-01,\n",
       "        -2.06970000e-01,  -1.42380000e-01,   5.95200000e-01,\n",
       "        -1.92600000e-01,   2.45030000e-02,  -2.15490000e-01,\n",
       "        -1.17010000e+00,   4.34620000e-01,   7.02930000e-01,\n",
       "        -3.85890000e-01,  -3.44780000e-01,  -6.13700000e-01,\n",
       "        -2.06520000e-01,   1.24210000e-01,  -5.08820000e-01,\n",
       "        -5.43090000e-01,   3.35230000e-01,   1.68080000e-01,\n",
       "        -1.85330000e-01,   1.04680000e-01,   1.70480000e-01,\n",
       "         3.98150000e-01,  -1.02670000e+00,   5.11540000e-01,\n",
       "        -6.95960000e-01,  -1.17890000e-01,   4.17900000e-02,\n",
       "        -4.77780000e-02,   5.08320000e-01,   6.61760000e-02,\n",
       "        -1.81530000e-01,   1.39290000e-01,   3.77680000e-01,\n",
       "        -5.72710000e-01,  -6.82490000e-03,  -1.00710000e-02,\n",
       "         2.17530000e-01,   3.38780000e-01,  -2.20410000e-01,\n",
       "         1.22830000e-01,   1.91300000e-01,  -1.78050000e+00,\n",
       "        -3.81300000e-01,  -3.28180000e-01,   3.46270000e-01,\n",
       "         4.22120000e-01,   1.24090000e-01,   6.62790000e-03,\n",
       "        -3.59450000e-01,   1.28110000e-01,  -1.17790000e-01,\n",
       "         7.32110000e-01,  -1.26920000e-01,  -7.73140000e-02,\n",
       "         3.23060000e-01,  -5.59670000e-01,  -1.72350000e-01,\n",
       "        -2.50980000e-01,  -1.52580000e-01,   4.22130000e-01,\n",
       "         4.09080000e-01,  -8.79100000e-02,   2.51950000e-01,\n",
       "        -2.26340000e-01,  -2.63600000e-01,   9.25280000e-02,\n",
       "         6.90220000e-01,  -3.26150000e-01,  -8.76230000e-01,\n",
       "        -1.67660000e-01,  -1.21140000e-01,   3.40260000e-01,\n",
       "         6.64440000e-01,   3.32250000e-01,  -3.98510000e-01,\n",
       "        -8.60530000e-01,   6.03380000e-01,  -1.54150000e-01,\n",
       "        -5.07440000e-02,   3.17720000e-01,  -1.19760000e-02,\n",
       "         7.50980000e-01,  -6.36850000e-01,  -6.75330000e-01,\n",
       "        -4.74820000e-01,  -1.82940000e-01,  -9.17620000e-02,\n",
       "         7.29900000e-03,   2.47670000e-01,  -3.78100000e-01,\n",
       "         1.72740000e-01,  -3.75810000e-01,  -2.16430000e-01,\n",
       "        -8.30530000e-02,   1.06150000e-03,   8.05820000e-01,\n",
       "         2.11410000e-01,  -3.22600000e-01,  -1.70000000e-01,\n",
       "         4.18950000e-01,  -6.65190000e-01,  -4.45700000e-01,\n",
       "         1.06020000e-01,  -1.14790000e-01,   7.38110000e-01,\n",
       "         3.13890000e-02,  -5.70090000e-01,  -3.56930000e-01,\n",
       "         2.55040000e-01,  -5.00440000e-01,  -1.03080000e-01,\n",
       "        -1.32580000e-01,  -4.18040000e-01,  -1.37880000e-01,\n",
       "        -3.67920000e-01,  -4.10790000e-01,  -3.05560000e-01,\n",
       "        -8.55900000e-01,  -3.49610000e-01,  -4.77140000e-01,\n",
       "        -3.17500000e-01,   4.41780000e-02,   4.84640000e-01,\n",
       "        -1.57030000e-01,   2.94930000e-01,   5.39450000e-01,\n",
       "         1.20130000e-01,   5.73450000e-01,   3.00000000e-01,\n",
       "        -2.86290000e-01,   5.44140000e-01,   1.73770000e-02,\n",
       "        -7.03070000e-02,  -2.84270000e-01,  -3.30820000e-01,\n",
       "        -3.48820000e-01,   4.06580000e-01,  -5.61320000e-01,\n",
       "         1.18700000e-01,   8.00260000e-01,   1.36560000e-01,\n",
       "         8.23160000e-02,  -3.70470000e-01,   1.66570000e-03,\n",
       "        -5.50280000e-01,   3.68030000e-01,  -9.26100000e-01,\n",
       "         6.05980000e-01,   2.57320000e-01,   2.18600000e-01,\n",
       "        -2.18720000e-01,  -4.43120000e-01,   6.63380000e-01,\n",
       "        -2.07030000e-01,  -2.47780000e-03,   6.18600000e-01,\n",
       "        -2.29360000e-01,   1.80830000e-01,   1.78000000e-01,\n",
       "         5.91480000e-01,  -1.05040000e+00,   3.00240000e-01,\n",
       "         4.84990000e-01,   2.64400000e-01,   1.26440000e-01,\n",
       "         1.85630000e-01,   1.19050000e-01,  -3.62820000e-02,\n",
       "         2.84750000e-01,   5.84810000e-01,  -5.08270000e-02,\n",
       "        -4.15760000e-01,  -1.61630000e-02,   2.73600000e-01,\n",
       "        -2.47740000e-01,  -5.30320000e-02,  -3.96030000e-01,\n",
       "         3.65880000e-01,  -1.85350000e-01,  -3.01280000e-01,\n",
       "        -3.94270000e-01,   2.70360000e-01,   8.05880000e-02,\n",
       "         5.59330000e-01,   1.12790000e-01,   2.90880000e-02,\n",
       "        -1.31250000e+00,   7.16080000e-03,  -3.35130000e-01,\n",
       "         2.12030000e-01,  -7.10010000e-01,   3.72880000e-01,\n",
       "        -5.20980000e-01,  -8.34150000e-01,   4.49830000e-01,\n",
       "         7.93140000e-02,   7.26560000e-01,   9.04870000e-02,\n",
       "         6.66400000e-02,  -4.32840000e-01,   1.48020000e-01])"
      ]
     },
     "execution_count": 15,
     "metadata": {},
     "output_type": "execute_result"
    }
   ],
   "source": [
    "glove['python']"
   ]
  },
  {
   "cell_type": "markdown",
   "metadata": {},
   "source": [
    "For some of the methods below, we also need the word frequencies estimated from the corpus. As we currently don't have this available for the GloVe pretrained vectors / Common Crawl corpus, we use the `wordfreq` package (https://github.com/LuminosoInsight/wordfreq/): "
   ]
  },
  {
   "cell_type": "code",
   "execution_count": 16,
   "metadata": {
    "collapsed": true
   },
   "outputs": [],
   "source": [
    "import wordfreq"
   ]
  },
  {
   "cell_type": "code",
   "execution_count": 17,
   "metadata": {},
   "outputs": [
    {
     "data": {
      "text/plain": [
       "3.981071705534969e-06"
      ]
     },
     "execution_count": 17,
     "metadata": {},
     "output_type": "execute_result"
    }
   ],
   "source": [
    "wordfreq.word_frequency('python', 'en', wordlist='large')"
   ]
  },
  {
   "cell_type": "code",
   "execution_count": 18,
   "metadata": {},
   "outputs": [
    {
     "data": {
      "text/plain": [
       "0.022908676527677734"
      ]
     },
     "execution_count": 18,
     "metadata": {},
     "output_type": "execute_result"
    }
   ],
   "source": [
    "wordfreq.word_frequency('and', 'en', wordlist='large')"
   ]
  },
  {
   "cell_type": "markdown",
   "metadata": {},
   "source": [
    "## Predict similarity between sentences (STS tasks) based on GloVe"
   ]
  },
  {
   "cell_type": "markdown",
   "metadata": {},
   "source": [
    "To predict the similarity between two sentences, the word embeddings (using the GloVe word vectors) are combined into a sentence embedding. \n",
    "\n",
    "Similarity is calculate as the cosine similarity of the two sentence embeddings, and the performance is evaluated as the Pearson's coefficient between the predicted scores and the labels:"
   ]
  },
  {
   "cell_type": "code",
   "execution_count": 19,
   "metadata": {
    "collapsed": true
   },
   "outputs": [],
   "source": [
    "def cosine_similarity(v1, v2):\n",
    "    return np.dot(v1, v2) / (np.linalg.norm(v1) * np.linalg.norm(v2))"
   ]
  },
  {
   "cell_type": "code",
   "execution_count": 20,
   "metadata": {
    "collapsed": true
   },
   "outputs": [],
   "source": [
    "from scipy.stats import pearsonr"
   ]
  },
  {
   "cell_type": "markdown",
   "metadata": {},
   "source": [
    "### avg-GloVe: unweighted average of GloVe vectors"
   ]
  },
  {
   "cell_type": "markdown",
   "metadata": {},
   "source": [
    "A simple method is to take the unweighted average of the different word vectors:"
   ]
  },
  {
   "cell_type": "code",
   "execution_count": 21,
   "metadata": {
    "collapsed": true
   },
   "outputs": [],
   "source": [
    "def sentence_vector_avg(sentence):\n",
    "    \"\"\"Calculate the sentence vector as the mean of the word vectors\"\"\"\n",
    "    \n",
    "    word_vecs = []\n",
    "    for token in sentence:\n",
    "        token = token.lower()\n",
    "        try:\n",
    "            word_vecs.append(np.array(glove[token]))\n",
    "        except KeyError:\n",
    "            pass\n",
    "\n",
    "    return np.array(word_vecs).mean(axis=0)\n",
    "\n",
    "def embed_avg(sentences):\n",
    "    \"\"\"Calculate sentence embeddings for set of sentences\n",
    "    based on the average of the word vectors\n",
    "    \"\"\"\n",
    "    \n",
    "    values = []\n",
    "    for s in sentences:\n",
    "        mean = sentence_vector_avg(s)\n",
    "        values.append(mean)\n",
    "        \n",
    "    return np.array(values)"
   ]
  },
  {
   "cell_type": "markdown",
   "metadata": {},
   "source": [
    "Predict similarity between two sentences:"
   ]
  },
  {
   "cell_type": "code",
   "execution_count": 22,
   "metadata": {
    "collapsed": true
   },
   "outputs": [],
   "source": [
    "v0 = sentence_vector_avg(s0[0])"
   ]
  },
  {
   "cell_type": "code",
   "execution_count": 23,
   "metadata": {
    "collapsed": true
   },
   "outputs": [],
   "source": [
    "v1 = sentence_vector_avg(s1[0])"
   ]
  },
  {
   "cell_type": "code",
   "execution_count": 24,
   "metadata": {
    "scrolled": true
   },
   "outputs": [
    {
     "data": {
      "text/plain": [
       "0.73405983546708098"
      ]
     },
     "execution_count": 24,
     "metadata": {},
     "output_type": "execute_result"
    }
   ],
   "source": [
    "cosine_similarity(v0, v1)"
   ]
  },
  {
   "cell_type": "markdown",
   "metadata": {},
   "source": [
    "Predict similarity for the full set of sentences:"
   ]
  },
  {
   "cell_type": "code",
   "execution_count": 25,
   "metadata": {
    "collapsed": true
   },
   "outputs": [],
   "source": [
    "Vs0 = embed_avg(s0)\n",
    "Vs1 = embed_avg(s1)\n",
    "predicted = np.array([cosine_similarity(vs0, vs1) for vs0, vs1 in zip(Vs0, Vs1)])"
   ]
  },
  {
   "cell_type": "code",
   "execution_count": 26,
   "metadata": {},
   "outputs": [
    {
     "data": {
      "text/plain": [
       "<matplotlib.collections.PathCollection at 0x7f46361cbc50>"
      ]
     },
     "execution_count": 26,
     "metadata": {},
     "output_type": "execute_result"
    },
    {
     "data": {
      "image/png": "[encoded data removed]",
      "text/plain": [
       "<matplotlib.figure.Figure at 0x7f4636224ac8>"
      ]
     },
     "metadata": {},
     "output_type": "display_data"
    }
   ],
   "source": [
    "plt.scatter(predicted, labels)"
   ]
  },
  {
   "cell_type": "markdown",
   "metadata": {},
   "source": [
    "The evaluation criterion is the Pearson's coefficient between the predicted scores and the labels:"
   ]
  },
  {
   "cell_type": "code",
   "execution_count": 27,
   "metadata": {},
   "outputs": [
    {
     "data": {
      "text/plain": [
       "0.66095534976480941"
      ]
     },
     "execution_count": 27,
     "metadata": {},
     "output_type": "execute_result"
    }
   ],
   "source": [
    "pearsonr(predicted, labels)[0]"
   ]
  },
  {
   "cell_type": "markdown",
   "metadata": {},
   "source": [
    "#### Systematically on all STS tasks"
   ]
  },
  {
   "cell_type": "code",
   "execution_count": 28,
   "metadata": {
    "collapsed": true
   },
   "outputs": [],
   "source": [
    "def evaluate_tasks(files, embed_func):\n",
    "\n",
    "    tests = []\n",
    "    scores = []\n",
    "\n",
    "    for f in files:\n",
    "        s0, s1, labels = load_sts(f)\n",
    "        Vs0 = embed_func(s0)\n",
    "        Vs1 = embed_func(s1)\n",
    "        predicted = np.array([cosine_similarity(vs0, vs1) for vs0, vs1 in zip(Vs0, Vs1)])\n",
    "        rp = pearsonr(predicted, labels)[0]\n",
    "\n",
    "        scores.append(rp)\n",
    "        name = f.split('/')[-1].split('.')\n",
    "        tests.append((name[0], name[1]))\n",
    "    \n",
    "    return pd.Series(scores, index=pd.MultiIndex.from_tuples(tests))"
   ]
  },
  {
   "cell_type": "code",
   "execution_count": 29,
   "metadata": {
    "collapsed": true
   },
   "outputs": [],
   "source": [
    "import glob"
   ]
  },
  {
   "cell_type": "code",
   "execution_count": 30,
   "metadata": {},
   "outputs": [
    {
     "data": {
      "text/plain": [
       "['dataset-sts/data/sts/semeval-sts/all/2012.MSRpar.test.tsv',\n",
       " 'dataset-sts/data/sts/semeval-sts/all/2012.OnWN.test.tsv',\n",
       " 'dataset-sts/data/sts/semeval-sts/all/2012.SMTeuroparl.test.tsv',\n",
       " 'dataset-sts/data/sts/semeval-sts/all/2012.SMTnews.test.tsv',\n",
       " 'dataset-sts/data/sts/semeval-sts/all/2013.FNWN.test.tsv',\n",
       " 'dataset-sts/data/sts/semeval-sts/all/2013.OnWN.test.tsv',\n",
       " 'dataset-sts/data/sts/semeval-sts/all/2013.headlines.test.tsv',\n",
       " 'dataset-sts/data/sts/semeval-sts/all/2014.OnWN.test.tsv',\n",
       " 'dataset-sts/data/sts/semeval-sts/all/2014.deft-forum.test.tsv',\n",
       " 'dataset-sts/data/sts/semeval-sts/all/2014.deft-news.test.tsv',\n",
       " 'dataset-sts/data/sts/semeval-sts/all/2014.headlines.test.tsv',\n",
       " 'dataset-sts/data/sts/semeval-sts/all/2014.images.test.tsv',\n",
       " 'dataset-sts/data/sts/semeval-sts/all/2014.tweet-news.test.tsv',\n",
       " 'dataset-sts/data/sts/semeval-sts/all/2015.answers-forums.test.tsv',\n",
       " 'dataset-sts/data/sts/semeval-sts/all/2015.answers-students.test.tsv',\n",
       " 'dataset-sts/data/sts/semeval-sts/all/2015.belief.test.tsv',\n",
       " 'dataset-sts/data/sts/semeval-sts/all/2015.headlines.test.tsv',\n",
       " 'dataset-sts/data/sts/semeval-sts/all/2015.images.test.tsv',\n",
       " 'dataset-sts/data/sts/semeval-sts/all/2015.test.tsv',\n",
       " 'dataset-sts/data/sts/semeval-sts/all/2016.answer-answer.test.tsv',\n",
       " 'dataset-sts/data/sts/semeval-sts/all/2016.headlines.test.tsv',\n",
       " 'dataset-sts/data/sts/semeval-sts/all/2016.plagiarism.test.tsv',\n",
       " 'dataset-sts/data/sts/semeval-sts/all/2016.postediting.test.tsv',\n",
       " 'dataset-sts/data/sts/semeval-sts/all/2016.question-question.test.tsv']"
      ]
     },
     "execution_count": 30,
     "metadata": {},
     "output_type": "execute_result"
    }
   ],
   "source": [
    "files = glob.glob(\"dataset-sts/data/sts/semeval-sts/all/*.test.tsv\")\n",
    "files"
   ]
  },
  {
   "cell_type": "code",
   "execution_count": 31,
   "metadata": {
    "collapsed": true
   },
   "outputs": [],
   "source": [
    "files.remove('dataset-sts/data/sts/semeval-sts/all/2015.test.tsv')"
   ]
  },
  {
   "cell_type": "code",
   "execution_count": 32,
   "metadata": {
    "collapsed": true
   },
   "outputs": [],
   "source": [
    "res_avg = evaluate_tasks(files, embed_avg)"
   ]
  },
  {
   "cell_type": "code",
   "execution_count": 33,
   "metadata": {
    "collapsed": true
   },
   "outputs": [],
   "source": [
    "res = res_avg.to_frame(name='avg-GloVe') * 100"
   ]
  },
  {
   "cell_type": "code",
   "execution_count": 34,
   "metadata": {},
   "outputs": [
    {
     "data": {
      "text/html": [
       "<div>\n",
       "<table border=\"1\" class=\"dataframe\">\n",
       "  <thead>\n",
       "    <tr style=\"text-align: right;\">\n",
       "      <th></th>\n",
       "      <th></th>\n",
       "      <th>avg-GloVe</th>\n",
       "    </tr>\n",
       "  </thead>\n",
       "  <tbody>\n",
       "    <tr>\n",
       "      <th rowspan=\"4\" valign=\"top\">2012</th>\n",
       "      <th>MSRpar</th>\n",
       "      <td>43.4</td>\n",
       "    </tr>\n",
       "    <tr>\n",
       "      <th>OnWN</th>\n",
       "      <td>56.7</td>\n",
       "    </tr>\n",
       "    <tr>\n",
       "      <th>SMTeuroparl</th>\n",
       "      <td>41.2</td>\n",
       "    </tr>\n",
       "    <tr>\n",
       "      <th>SMTnews</th>\n",
       "      <td>46.7</td>\n",
       "    </tr>\n",
       "    <tr>\n",
       "      <th rowspan=\"3\" valign=\"top\">2013</th>\n",
       "      <th>FNWN</th>\n",
       "      <td>38.0</td>\n",
       "    </tr>\n",
       "    <tr>\n",
       "      <th>OnWN</th>\n",
       "      <td>47.1</td>\n",
       "    </tr>\n",
       "    <tr>\n",
       "      <th>headlines</th>\n",
       "      <td>63.1</td>\n",
       "    </tr>\n",
       "    <tr>\n",
       "      <th rowspan=\"6\" valign=\"top\">2014</th>\n",
       "      <th>OnWN</th>\n",
       "      <td>57.6</td>\n",
       "    </tr>\n",
       "    <tr>\n",
       "      <th>deft-forum</th>\n",
       "      <td>27.8</td>\n",
       "    </tr>\n",
       "    <tr>\n",
       "      <th>deft-news</th>\n",
       "      <td>65.0</td>\n",
       "    </tr>\n",
       "    <tr>\n",
       "      <th>headlines</th>\n",
       "      <td>59.3</td>\n",
       "    </tr>\n",
       "    <tr>\n",
       "      <th>images</th>\n",
       "      <td>62.4</td>\n",
       "    </tr>\n",
       "    <tr>\n",
       "      <th>tweet-news</th>\n",
       "      <td>54.7</td>\n",
       "    </tr>\n",
       "    <tr>\n",
       "      <th rowspan=\"5\" valign=\"top\">2015</th>\n",
       "      <th>answers-forums</th>\n",
       "      <td>34.4</td>\n",
       "    </tr>\n",
       "    <tr>\n",
       "      <th>answers-students</th>\n",
       "      <td>63.1</td>\n",
       "    </tr>\n",
       "    <tr>\n",
       "      <th>belief</th>\n",
       "      <td>44.1</td>\n",
       "    </tr>\n",
       "    <tr>\n",
       "      <th>headlines</th>\n",
       "      <td>66.1</td>\n",
       "    </tr>\n",
       "    <tr>\n",
       "      <th>images</th>\n",
       "      <td>69.1</td>\n",
       "    </tr>\n",
       "    <tr>\n",
       "      <th rowspan=\"5\" valign=\"top\">2016</th>\n",
       "      <th>answer-answer</th>\n",
       "      <td>38.3</td>\n",
       "    </tr>\n",
       "    <tr>\n",
       "      <th>headlines</th>\n",
       "      <td>61.1</td>\n",
       "    </tr>\n",
       "    <tr>\n",
       "      <th>plagiarism</th>\n",
       "      <td>52.6</td>\n",
       "    </tr>\n",
       "    <tr>\n",
       "      <th>postediting</th>\n",
       "      <td>54.4</td>\n",
       "    </tr>\n",
       "    <tr>\n",
       "      <th>question-question</th>\n",
       "      <td>48.5</td>\n",
       "    </tr>\n",
       "  </tbody>\n",
       "</table>\n",
       "</div>"
      ],
      "text/plain": [
       "                        avg-GloVe\n",
       "2012 MSRpar                  43.4\n",
       "     OnWN                    56.7\n",
       "     SMTeuroparl             41.2\n",
       "     SMTnews                 46.7\n",
       "2013 FNWN                    38.0\n",
       "     OnWN                    47.1\n",
       "     headlines               63.1\n",
       "2014 OnWN                    57.6\n",
       "     deft-forum              27.8\n",
       "     deft-news               65.0\n",
       "     headlines               59.3\n",
       "     images                  62.4\n",
       "     tweet-news              54.7\n",
       "2015 answers-forums          34.4\n",
       "     answers-students        63.1\n",
       "     belief                  44.1\n",
       "     headlines               66.1\n",
       "     images                  69.1\n",
       "2016 answer-answer           38.3\n",
       "     headlines               61.1\n",
       "     plagiarism              52.6\n",
       "     postediting             54.4\n",
       "     question-question       48.5"
      ]
     },
     "execution_count": 34,
     "metadata": {},
     "output_type": "execute_result"
    }
   ],
   "source": [
    "res.round(1)"
   ]
  },
  {
   "cell_type": "code",
   "execution_count": 35,
   "metadata": {
    "scrolled": true
   },
   "outputs": [
    {
     "data": {
      "text/html": [
       "<div>\n",
       "<table border=\"1\" class=\"dataframe\">\n",
       "  <thead>\n",
       "    <tr style=\"text-align: right;\">\n",
       "      <th></th>\n",
       "      <th>avg-GloVe</th>\n",
       "    </tr>\n",
       "  </thead>\n",
       "  <tbody>\n",
       "    <tr>\n",
       "      <th>2012</th>\n",
       "      <td>47.0</td>\n",
       "    </tr>\n",
       "    <tr>\n",
       "      <th>2013</th>\n",
       "      <td>49.4</td>\n",
       "    </tr>\n",
       "    <tr>\n",
       "      <th>2014</th>\n",
       "      <td>54.4</td>\n",
       "    </tr>\n",
       "    <tr>\n",
       "      <th>2015</th>\n",
       "      <td>55.4</td>\n",
       "    </tr>\n",
       "    <tr>\n",
       "      <th>2016</th>\n",
       "      <td>51.0</td>\n",
       "    </tr>\n",
       "  </tbody>\n",
       "</table>\n",
       "</div>"
      ],
      "text/plain": [
       "      avg-GloVe\n",
       "2012       47.0\n",
       "2013       49.4\n",
       "2014       54.4\n",
       "2015       55.4\n",
       "2016       51.0"
      ]
     },
     "execution_count": 35,
     "metadata": {},
     "output_type": "execute_result"
    }
   ],
   "source": [
    "res.mean(axis=0, level=0).round(1)"
   ]
  },
  {
   "cell_type": "markdown",
   "metadata": {},
   "source": [
    "### GloVe+W: weighted average of GloVe vectors"
   ]
  },
  {
   "cell_type": "markdown",
   "metadata": {},
   "source": [
    "In the Arora *et al.* (2017) paper, a weighted average of the word vectors (smooth inverse frequency weighting) is used based on word frequencies estimated from the commoncrawl dataset. Here, we use the `wordfreq` package (https://github.com/LuminosoInsight/wordfreq/) as alternative."
   ]
  },
  {
   "cell_type": "code",
   "execution_count": 36,
   "metadata": {
    "collapsed": true
   },
   "outputs": [],
   "source": [
    "import wordfreq\n",
    "\n",
    "def sentence_vector_avg_W(sentence, a=1e-3):\n",
    "    \"\"\"Calculate the sentence vector as the mean of the word vectors\"\"\"\n",
    "    \n",
    "    word_vecs = []\n",
    "    for token in sentence:\n",
    "        token = token.lower()\n",
    "        try:\n",
    "            vw = np.array(glove[token])\n",
    "            freq = wordfreq.word_frequency(token, 'en', wordlist='large')\n",
    "            vw *= a / (a + freq)\n",
    "            word_vecs.append(vw)\n",
    "        except KeyError:\n",
    "            pass\n",
    "\n",
    "    return np.array(word_vecs).mean(axis=0)\n",
    "\n",
    "def embed_avg_W(sentences):\n",
    "    \"\"\"Calculate sentence embeddings for set of sentences\n",
    "    based on the average of the word vectors\n",
    "    \"\"\"\n",
    "    \n",
    "    values = []\n",
    "    for s in sentences:\n",
    "        mean = sentence_vector_avg_W(s)\n",
    "        values.append(mean)\n",
    "        \n",
    "    return np.array(values)"
   ]
  },
  {
   "cell_type": "code",
   "execution_count": 37,
   "metadata": {
    "collapsed": true
   },
   "outputs": [],
   "source": [
    "res_avg_W = evaluate_tasks(files, embed_avg_W)"
   ]
  },
  {
   "cell_type": "code",
   "execution_count": 38,
   "metadata": {
    "collapsed": true
   },
   "outputs": [],
   "source": [
    "res = pd.concat([res_avg, res_avg_W], keys=['avg-GloVe', 'GloVe+W'], axis=1) * 100"
   ]
  },
  {
   "cell_type": "code",
   "execution_count": 39,
   "metadata": {},
   "outputs": [
    {
     "data": {
      "text/html": [
       "<div>\n",
       "<table border=\"1\" class=\"dataframe\">\n",
       "  <thead>\n",
       "    <tr style=\"text-align: right;\">\n",
       "      <th></th>\n",
       "      <th></th>\n",
       "      <th>avg-GloVe</th>\n",
       "      <th>GloVe+W</th>\n",
       "    </tr>\n",
       "  </thead>\n",
       "  <tbody>\n",
       "    <tr>\n",
       "      <th rowspan=\"4\" valign=\"top\">2012</th>\n",
       "      <th>MSRpar</th>\n",
       "      <td>43.4</td>\n",
       "      <td>40.5</td>\n",
       "    </tr>\n",
       "    <tr>\n",
       "      <th>OnWN</th>\n",
       "      <td>56.7</td>\n",
       "      <td>61.0</td>\n",
       "    </tr>\n",
       "    <tr>\n",
       "      <th>SMTeuroparl</th>\n",
       "      <td>41.2</td>\n",
       "      <td>46.2</td>\n",
       "    </tr>\n",
       "    <tr>\n",
       "      <th>SMTnews</th>\n",
       "      <td>46.7</td>\n",
       "      <td>50.9</td>\n",
       "    </tr>\n",
       "    <tr>\n",
       "      <th rowspan=\"3\" valign=\"top\">2013</th>\n",
       "      <th>FNWN</th>\n",
       "      <td>38.0</td>\n",
       "      <td>39.5</td>\n",
       "    </tr>\n",
       "    <tr>\n",
       "      <th>OnWN</th>\n",
       "      <td>47.1</td>\n",
       "      <td>65.5</td>\n",
       "    </tr>\n",
       "    <tr>\n",
       "      <th>headlines</th>\n",
       "      <td>63.1</td>\n",
       "      <td>66.2</td>\n",
       "    </tr>\n",
       "    <tr>\n",
       "      <th rowspan=\"6\" valign=\"top\">2014</th>\n",
       "      <th>OnWN</th>\n",
       "      <td>57.6</td>\n",
       "      <td>70.8</td>\n",
       "    </tr>\n",
       "    <tr>\n",
       "      <th>deft-forum</th>\n",
       "      <td>27.8</td>\n",
       "      <td>31.9</td>\n",
       "    </tr>\n",
       "    <tr>\n",
       "      <th>deft-news</th>\n",
       "      <td>65.0</td>\n",
       "      <td>69.8</td>\n",
       "    </tr>\n",
       "    <tr>\n",
       "      <th>headlines</th>\n",
       "      <td>59.3</td>\n",
       "      <td>62.0</td>\n",
       "    </tr>\n",
       "    <tr>\n",
       "      <th>images</th>\n",
       "      <td>62.4</td>\n",
       "      <td>76.4</td>\n",
       "    </tr>\n",
       "    <tr>\n",
       "      <th>tweet-news</th>\n",
       "      <td>54.7</td>\n",
       "      <td>58.6</td>\n",
       "    </tr>\n",
       "    <tr>\n",
       "      <th rowspan=\"5\" valign=\"top\">2015</th>\n",
       "      <th>answers-forums</th>\n",
       "      <td>34.4</td>\n",
       "      <td>46.7</td>\n",
       "    </tr>\n",
       "    <tr>\n",
       "      <th>answers-students</th>\n",
       "      <td>63.1</td>\n",
       "      <td>66.0</td>\n",
       "    </tr>\n",
       "    <tr>\n",
       "      <th>belief</th>\n",
       "      <td>44.1</td>\n",
       "      <td>56.8</td>\n",
       "    </tr>\n",
       "    <tr>\n",
       "      <th>headlines</th>\n",
       "      <td>66.1</td>\n",
       "      <td>69.5</td>\n",
       "    </tr>\n",
       "    <tr>\n",
       "      <th>images</th>\n",
       "      <td>69.1</td>\n",
       "      <td>76.7</td>\n",
       "    </tr>\n",
       "    <tr>\n",
       "      <th rowspan=\"5\" valign=\"top\">2016</th>\n",
       "      <th>answer-answer</th>\n",
       "      <td>38.3</td>\n",
       "      <td>49.0</td>\n",
       "    </tr>\n",
       "    <tr>\n",
       "      <th>headlines</th>\n",
       "      <td>61.1</td>\n",
       "      <td>65.6</td>\n",
       "    </tr>\n",
       "    <tr>\n",
       "      <th>plagiarism</th>\n",
       "      <td>52.6</td>\n",
       "      <td>68.8</td>\n",
       "    </tr>\n",
       "    <tr>\n",
       "      <th>postediting</th>\n",
       "      <td>54.4</td>\n",
       "      <td>66.2</td>\n",
       "    </tr>\n",
       "    <tr>\n",
       "      <th>question-question</th>\n",
       "      <td>48.5</td>\n",
       "      <td>64.0</td>\n",
       "    </tr>\n",
       "  </tbody>\n",
       "</table>\n",
       "</div>"
      ],
      "text/plain": [
       "                        avg-GloVe  GloVe+W\n",
       "2012 MSRpar                  43.4     40.5\n",
       "     OnWN                    56.7     61.0\n",
       "     SMTeuroparl             41.2     46.2\n",
       "     SMTnews                 46.7     50.9\n",
       "2013 FNWN                    38.0     39.5\n",
       "     OnWN                    47.1     65.5\n",
       "     headlines               63.1     66.2\n",
       "2014 OnWN                    57.6     70.8\n",
       "     deft-forum              27.8     31.9\n",
       "     deft-news               65.0     69.8\n",
       "     headlines               59.3     62.0\n",
       "     images                  62.4     76.4\n",
       "     tweet-news              54.7     58.6\n",
       "2015 answers-forums          34.4     46.7\n",
       "     answers-students        63.1     66.0\n",
       "     belief                  44.1     56.8\n",
       "     headlines               66.1     69.5\n",
       "     images                  69.1     76.7\n",
       "2016 answer-answer           38.3     49.0\n",
       "     headlines               61.1     65.6\n",
       "     plagiarism              52.6     68.8\n",
       "     postediting             54.4     66.2\n",
       "     question-question       48.5     64.0"
      ]
     },
     "execution_count": 39,
     "metadata": {},
     "output_type": "execute_result"
    }
   ],
   "source": [
    "res.round(1)"
   ]
  },
  {
   "cell_type": "code",
   "execution_count": 40,
   "metadata": {
    "scrolled": false
   },
   "outputs": [
    {
     "data": {
      "text/html": [
       "<div>\n",
       "<table border=\"1\" class=\"dataframe\">\n",
       "  <thead>\n",
       "    <tr style=\"text-align: right;\">\n",
       "      <th></th>\n",
       "      <th>avg-GloVe</th>\n",
       "      <th>GloVe+W</th>\n",
       "    </tr>\n",
       "  </thead>\n",
       "  <tbody>\n",
       "    <tr>\n",
       "      <th>2012</th>\n",
       "      <td>47.0</td>\n",
       "      <td>49.7</td>\n",
       "    </tr>\n",
       "    <tr>\n",
       "      <th>2013</th>\n",
       "      <td>49.4</td>\n",
       "      <td>57.1</td>\n",
       "    </tr>\n",
       "    <tr>\n",
       "      <th>2014</th>\n",
       "      <td>54.4</td>\n",
       "      <td>61.6</td>\n",
       "    </tr>\n",
       "    <tr>\n",
       "      <th>2015</th>\n",
       "      <td>55.4</td>\n",
       "      <td>63.1</td>\n",
       "    </tr>\n",
       "    <tr>\n",
       "      <th>2016</th>\n",
       "      <td>51.0</td>\n",
       "      <td>62.7</td>\n",
       "    </tr>\n",
       "  </tbody>\n",
       "</table>\n",
       "</div>"
      ],
      "text/plain": [
       "      avg-GloVe  GloVe+W\n",
       "2012       47.0     49.7\n",
       "2013       49.4     57.1\n",
       "2014       54.4     61.6\n",
       "2015       55.4     63.1\n",
       "2016       51.0     62.7"
      ]
     },
     "execution_count": 40,
     "metadata": {},
     "output_type": "execute_result"
    }
   ],
   "source": [
    "res.mean(axis=0, level=0).round(1)"
   ]
  },
  {
   "cell_type": "markdown",
   "metadata": {
    "collapsed": true
   },
   "source": [
    "The weighting scheme considerably improves the similarity scores."
   ]
  },
  {
   "cell_type": "markdown",
   "metadata": {},
   "source": [
    "### Using the GloVe+WR method"
   ]
  },
  {
   "cell_type": "markdown",
   "metadata": {},
   "source": [
    "The weighted average from above, but now combined with a removal of the common components, from Arora *et al.* (2017) (https://openreview.net/pdf?id=SyK00v5xx)\n",
    "\n",
    "The algorithm for sentence embedding (Algorithm 1, page 6, Arora et al. 2017):\n",
    "\n",
    "> **Input** Word embeddings $\\{v_w : w \\in \\mathcal{V}\\}$, a set of sentences $\\mathcal{S}$, parameter $a$ and estimated probabilities $\\{p(w) : w \\in \\mathcal{V}\\}$.  \n",
    "> **Output**: Sentence embeddings $\\{v_s : s \\in \\mathcal{S}\\}$\n",
    ">\n",
    "> 1: **for all** sentence $s$ in $\\mathcal{S}$ **do**  \n",
    "> 2: $ \\phantom{...} v_s \\gets \\frac{1}{|s|} \\sum_{w \\in s}{\\frac{a}{a + p(w)} v_w}$  \n",
    "> 3: **end for**  \n",
    "> 4: Compute the first principal component $u$ of $\\{v_s : s \\in \\mathcal{S}\\}$  \n",
    "> 5: **for all** sentence $s$ in $\\mathcal{S}$ **do**  \n",
    "> 6: $ \\phantom{...} v_s \\gets v_s - u u^T v_s$  \n",
    "> 7: **end for**  "
   ]
  },
  {
   "cell_type": "markdown",
   "metadata": {},
   "source": [
    "The weighted average to obtain the sentence embeddings $v_s$ (lines 1-3 in the algorithm) is the same as above (using `sentence_vector_avg_W`), but now afterwards the full matrix of those vectors is further adapted:"
   ]
  },
  {
   "cell_type": "code",
   "execution_count": 41,
   "metadata": {
    "collapsed": true
   },
   "outputs": [],
   "source": [
    "from sklearn.decomposition import PCA\n",
    "\n",
    "def embed_avg_WR(sentences):\n",
    "    \"\"\"Calculate sentence embeddings for set of sentences\n",
    "    based on the weighted average of the word vectors +\n",
    "    applying subtraction of first principal component projection.\n",
    "    \"\"\"\n",
    "    \n",
    "    # weighted average of word vectors for all sentences\n",
    "    values = []\n",
    "    for s in sentences:\n",
    "        mean = sentence_vector_avg_W(s)\n",
    "        values.append(mean)\n",
    "        \n",
    "    X = np.array(values)\n",
    "    \n",
    "    # removal of common component\n",
    "    pca = PCA(n_components=1).fit(X)\n",
    "    u = pca.components_[0]\n",
    "    return X - np.dot(X, np.outer(u, u))"
   ]
  },
  {
   "cell_type": "markdown",
   "metadata": {},
   "source": [
    "The code to evaluate on all tasks is slightly adapted, as we do the embedding (and thus component removal) on all sentences (both left and right sentences) together:"
   ]
  },
  {
   "cell_type": "code",
   "execution_count": 42,
   "metadata": {
    "collapsed": true
   },
   "outputs": [],
   "source": [
    "def evaluate_tasks2(files, embed_func):\n",
    "\n",
    "    tests = []\n",
    "    scores = []\n",
    "\n",
    "    for f in files:\n",
    "        s0, s1, labels = load_sts(f)\n",
    "        \n",
    "        # combine left and right sentences, embed, and split again\n",
    "        s0 = np.array(s0)\n",
    "        s1 = np.array(s1)\n",
    "        embedded = embed_func(np.concatenate((s0, s1), axis=0))\n",
    "        Vs0 = embedded[:s0.shape[0]]\n",
    "        Vs1 = embedded[s0.shape[0]:]\n",
    "        \n",
    "        predicted = np.array([cosine_similarity(vs0, vs1) for vs0, vs1 in zip(Vs0, Vs1)])\n",
    "        rp = pearsonr(predicted, labels)[0]\n",
    "\n",
    "        scores.append(rp)\n",
    "        name = f.split('/')[-1].split('.')\n",
    "        tests.append((name[0], name[1]))\n",
    "    \n",
    "    return pd.Series(scores, index=pd.MultiIndex.from_tuples(tests))"
   ]
  },
  {
   "cell_type": "code",
   "execution_count": 43,
   "metadata": {
    "collapsed": true
   },
   "outputs": [],
   "source": [
    "res_avg_WR = evaluate_tasks(files, embed_avg_WR)"
   ]
  },
  {
   "cell_type": "code",
   "execution_count": 44,
   "metadata": {
    "collapsed": true
   },
   "outputs": [],
   "source": [
    "res = pd.concat([res_avg, res_avg_W, res_avg_WR], keys=['avg-GloVe', 'GloVe+W', 'GloVe+WR'], axis=1) * 100"
   ]
  },
  {
   "cell_type": "code",
   "execution_count": 45,
   "metadata": {},
   "outputs": [
    {
     "data": {
      "text/html": [
       "<div>\n",
       "<table border=\"1\" class=\"dataframe\">\n",
       "  <thead>\n",
       "    <tr style=\"text-align: right;\">\n",
       "      <th></th>\n",
       "      <th></th>\n",
       "      <th>avg-GloVe</th>\n",
       "      <th>GloVe+W</th>\n",
       "      <th>GloVe+WR</th>\n",
       "    </tr>\n",
       "  </thead>\n",
       "  <tbody>\n",
       "    <tr>\n",
       "      <th rowspan=\"4\" valign=\"top\">2012</th>\n",
       "      <th>MSRpar</th>\n",
       "      <td>43.4</td>\n",
       "      <td>40.5</td>\n",
       "      <td>46.1</td>\n",
       "    </tr>\n",
       "    <tr>\n",
       "      <th>OnWN</th>\n",
       "      <td>56.7</td>\n",
       "      <td>61.0</td>\n",
       "      <td>57.1</td>\n",
       "    </tr>\n",
       "    <tr>\n",
       "      <th>SMTeuroparl</th>\n",
       "      <td>41.2</td>\n",
       "      <td>46.2</td>\n",
       "      <td>45.9</td>\n",
       "    </tr>\n",
       "    <tr>\n",
       "      <th>SMTnews</th>\n",
       "      <td>46.7</td>\n",
       "      <td>50.9</td>\n",
       "      <td>43.1</td>\n",
       "    </tr>\n",
       "    <tr>\n",
       "      <th rowspan=\"3\" valign=\"top\">2013</th>\n",
       "      <th>FNWN</th>\n",
       "      <td>38.0</td>\n",
       "      <td>39.5</td>\n",
       "      <td>37.2</td>\n",
       "    </tr>\n",
       "    <tr>\n",
       "      <th>OnWN</th>\n",
       "      <td>47.1</td>\n",
       "      <td>65.5</td>\n",
       "      <td>63.2</td>\n",
       "    </tr>\n",
       "    <tr>\n",
       "      <th>headlines</th>\n",
       "      <td>63.1</td>\n",
       "      <td>66.2</td>\n",
       "      <td>67.6</td>\n",
       "    </tr>\n",
       "    <tr>\n",
       "      <th rowspan=\"6\" valign=\"top\">2014</th>\n",
       "      <th>OnWN</th>\n",
       "      <td>57.6</td>\n",
       "      <td>70.8</td>\n",
       "      <td>71.3</td>\n",
       "    </tr>\n",
       "    <tr>\n",
       "      <th>deft-forum</th>\n",
       "      <td>27.8</td>\n",
       "      <td>31.9</td>\n",
       "      <td>33.5</td>\n",
       "    </tr>\n",
       "    <tr>\n",
       "      <th>deft-news</th>\n",
       "      <td>65.0</td>\n",
       "      <td>69.8</td>\n",
       "      <td>71.1</td>\n",
       "    </tr>\n",
       "    <tr>\n",
       "      <th>headlines</th>\n",
       "      <td>59.3</td>\n",
       "      <td>62.0</td>\n",
       "      <td>62.2</td>\n",
       "    </tr>\n",
       "    <tr>\n",
       "      <th>images</th>\n",
       "      <td>62.4</td>\n",
       "      <td>76.4</td>\n",
       "      <td>75.1</td>\n",
       "    </tr>\n",
       "    <tr>\n",
       "      <th>tweet-news</th>\n",
       "      <td>54.7</td>\n",
       "      <td>58.6</td>\n",
       "      <td>65.5</td>\n",
       "    </tr>\n",
       "    <tr>\n",
       "      <th rowspan=\"5\" valign=\"top\">2015</th>\n",
       "      <th>answers-forums</th>\n",
       "      <td>34.4</td>\n",
       "      <td>46.7</td>\n",
       "      <td>42.7</td>\n",
       "    </tr>\n",
       "    <tr>\n",
       "      <th>answers-students</th>\n",
       "      <td>63.1</td>\n",
       "      <td>66.0</td>\n",
       "      <td>64.3</td>\n",
       "    </tr>\n",
       "    <tr>\n",
       "      <th>belief</th>\n",
       "      <td>44.1</td>\n",
       "      <td>56.8</td>\n",
       "      <td>54.2</td>\n",
       "    </tr>\n",
       "    <tr>\n",
       "      <th>headlines</th>\n",
       "      <td>66.1</td>\n",
       "      <td>69.5</td>\n",
       "      <td>69.9</td>\n",
       "    </tr>\n",
       "    <tr>\n",
       "      <th>images</th>\n",
       "      <td>69.1</td>\n",
       "      <td>76.7</td>\n",
       "      <td>72.6</td>\n",
       "    </tr>\n",
       "    <tr>\n",
       "      <th rowspan=\"5\" valign=\"top\">2016</th>\n",
       "      <th>answer-answer</th>\n",
       "      <td>38.3</td>\n",
       "      <td>49.0</td>\n",
       "      <td>43.4</td>\n",
       "    </tr>\n",
       "    <tr>\n",
       "      <th>headlines</th>\n",
       "      <td>61.1</td>\n",
       "      <td>65.6</td>\n",
       "      <td>65.1</td>\n",
       "    </tr>\n",
       "    <tr>\n",
       "      <th>plagiarism</th>\n",
       "      <td>52.6</td>\n",
       "      <td>68.8</td>\n",
       "      <td>55.6</td>\n",
       "    </tr>\n",
       "    <tr>\n",
       "      <th>postediting</th>\n",
       "      <td>54.4</td>\n",
       "      <td>66.2</td>\n",
       "      <td>73.4</td>\n",
       "    </tr>\n",
       "    <tr>\n",
       "      <th>question-question</th>\n",
       "      <td>48.5</td>\n",
       "      <td>64.0</td>\n",
       "      <td>64.0</td>\n",
       "    </tr>\n",
       "  </tbody>\n",
       "</table>\n",
       "</div>"
      ],
      "text/plain": [
       "                        avg-GloVe  GloVe+W  GloVe+WR\n",
       "2012 MSRpar                  43.4     40.5      46.1\n",
       "     OnWN                    56.7     61.0      57.1\n",
       "     SMTeuroparl             41.2     46.2      45.9\n",
       "     SMTnews                 46.7     50.9      43.1\n",
       "2013 FNWN                    38.0     39.5      37.2\n",
       "     OnWN                    47.1     65.5      63.2\n",
       "     headlines               63.1     66.2      67.6\n",
       "2014 OnWN                    57.6     70.8      71.3\n",
       "     deft-forum              27.8     31.9      33.5\n",
       "     deft-news               65.0     69.8      71.1\n",
       "     headlines               59.3     62.0      62.2\n",
       "     images                  62.4     76.4      75.1\n",
       "     tweet-news              54.7     58.6      65.5\n",
       "2015 answers-forums          34.4     46.7      42.7\n",
       "     answers-students        63.1     66.0      64.3\n",
       "     belief                  44.1     56.8      54.2\n",
       "     headlines               66.1     69.5      69.9\n",
       "     images                  69.1     76.7      72.6\n",
       "2016 answer-answer           38.3     49.0      43.4\n",
       "     headlines               61.1     65.6      65.1\n",
       "     plagiarism              52.6     68.8      55.6\n",
       "     postediting             54.4     66.2      73.4\n",
       "     question-question       48.5     64.0      64.0"
      ]
     },
     "execution_count": 45,
     "metadata": {},
     "output_type": "execute_result"
    }
   ],
   "source": [
    "res.round(1)"
   ]
  },
  {
   "cell_type": "code",
   "execution_count": 46,
   "metadata": {
    "scrolled": false
   },
   "outputs": [
    {
     "data": {
      "text/html": [
       "<div>\n",
       "<table border=\"1\" class=\"dataframe\">\n",
       "  <thead>\n",
       "    <tr style=\"text-align: right;\">\n",
       "      <th></th>\n",
       "      <th>avg-GloVe</th>\n",
       "      <th>GloVe+W</th>\n",
       "      <th>GloVe+WR</th>\n",
       "    </tr>\n",
       "  </thead>\n",
       "  <tbody>\n",
       "    <tr>\n",
       "      <th>2012</th>\n",
       "      <td>47.0</td>\n",
       "      <td>49.7</td>\n",
       "      <td>48.1</td>\n",
       "    </tr>\n",
       "    <tr>\n",
       "      <th>2013</th>\n",
       "      <td>49.4</td>\n",
       "      <td>57.1</td>\n",
       "      <td>56.0</td>\n",
       "    </tr>\n",
       "    <tr>\n",
       "      <th>2014</th>\n",
       "      <td>54.4</td>\n",
       "      <td>61.6</td>\n",
       "      <td>63.1</td>\n",
       "    </tr>\n",
       "    <tr>\n",
       "      <th>2015</th>\n",
       "      <td>55.4</td>\n",
       "      <td>63.1</td>\n",
       "      <td>60.7</td>\n",
       "    </tr>\n",
       "    <tr>\n",
       "      <th>2016</th>\n",
       "      <td>51.0</td>\n",
       "      <td>62.7</td>\n",
       "      <td>60.3</td>\n",
       "    </tr>\n",
       "  </tbody>\n",
       "</table>\n",
       "</div>"
      ],
      "text/plain": [
       "      avg-GloVe  GloVe+W  GloVe+WR\n",
       "2012       47.0     49.7      48.1\n",
       "2013       49.4     57.1      56.0\n",
       "2014       54.4     61.6      63.1\n",
       "2015       55.4     63.1      60.7\n",
       "2016       51.0     62.7      60.3"
      ]
     },
     "execution_count": 46,
     "metadata": {},
     "output_type": "execute_result"
    }
   ],
   "source": [
    "res.mean(axis=0, level=0).round(1)"
   ]
  },
  {
   "cell_type": "markdown",
   "metadata": {},
   "source": [
    "In contrast with the results in Arora et al., 2017, the GloVe+WR scheme does not further improve the performance compared to the only doing the weighting (GloVe+W)."
   ]
  },
  {
   "cell_type": "code",
   "execution_count": null,
   "metadata": {
    "collapsed": true
   },
   "outputs": [],
   "source": []
  },
  {
   "cell_type": "code",
   "execution_count": 2,
   "metadata": {},
   "outputs": [
    {
     "data": {
      "text/html": [
       "<style type=\"text/css\">\n",
       "table.dataframe th {\n",
       "  vertical-align: top;\n",
       "}"
      ],
      "text/plain": [
       "<IPython.core.display.HTML object>"
      ]
     },
     "execution_count": 2,
     "metadata": {},
     "output_type": "execute_result"
    }
   ],
   "source": [
    "from IPython.display import HTML\n",
    "HTML(\"\"\"<style type=\"text/css\">\n",
    "table.dataframe th {\n",
    "  vertical-align: top;\n",
    "}\"\"\")"
   ]
  }
 ],
 "metadata": {
  "kernelspec": {
   "display_name": "Python 3",
   "language": "python",
   "name": "python3"
  },
  "language_info": {
   "codemirror_mode": {
    "name": "ipython",
    "version": 3
   },
   "file_extension": ".py",
   "mimetype": "text/x-python",
   "name": "python",
   "nbconvert_exporter": "python",
   "pygments_lexer": "ipython3",
   "version": "3.6.0"
  }
 },
 "nbformat": 4,
 "nbformat_minor": 2
}
